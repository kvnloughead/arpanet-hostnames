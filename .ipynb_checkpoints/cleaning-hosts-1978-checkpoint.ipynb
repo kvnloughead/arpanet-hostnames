{
 "cells": [
  {
   "cell_type": "markdown",
   "id": "5459e1f9",
   "metadata": {},
   "source": [
    "# Do over\n",
    "\n",
    "Last time, we tried to use pdfminer to mine the [Arpanet Directory](https://www.google.com/books/edition/ARPANET_Directory/AHo-AQAAIAAJ?hl=en&gbpv=1&dq=arpanet+directory&printsec=frontcover) we found on Google Books. We learned some valuable things, such as that the pdf we are working with actually contains _three_ years worth of directories, starting with 1978. But we ran into [issues](https://github.com/pdfminer/pdfminer.six/issues/656) with out of place text while using pdfminer. So instead I tried the simple expedient of `ctrl + a` and it worked like a charm.\n",
    "\n",
    "I also decided it would be helpful to subdivde the full pdf even further, extracting out only the HOST ACRONYMS AND NETWORKING LIASONS table from 1978. The pdf for this table is found [here](/files/pdfs/arpanet-directory_host-acronyms-1978.pdf). The text version is [here](/files/text/hosts-1978.txt)."
   ]
  },
  {
   "cell_type": "code",
   "execution_count": 2,
   "id": "41b3db3f",
   "metadata": {},
   "outputs": [],
   "source": [
    "import re\n",
    "import pandas as pd"
   ]
  },
  {
   "cell_type": "markdown",
   "id": "bcee52e8",
   "metadata": {},
   "source": [
    "## Initial Parsing\n",
    "\n",
    "We start by reading the file into a string and processing it:\n",
    "\n",
    "1. Remove the first lines (up to and including the column names, which we will not use), and the last line which is a page number.\n",
    "2. Replace the headers of each page with empty strings. There are two different formats of page headers to deal with.\n",
    "3. Replace page numbers with empty strings.\n",
    "4. Remove extra whitespace from around all punctuation marks -- except for right square brackets. There are two instances of those, and the exterior whitespace is necessary.\n",
    "5. Removing all extensions from phone numbers. We won't be calling any of these numbers, and the inconsistency will mess up our parsing.\n",
    "5. Split the string, using the phone numbers as a sepator, but keeping the separators.\n",
    "6. Zip the odd and even entries in this list of strings into a list of tuples, corresponding to the entries.\n",
    "\n",
    "And that'll do. Let's split off the phone numbers into a separate array or now."
   ]
  },
  {
   "cell_type": "code",
   "execution_count": 160,
   "id": "ce5ac576",
   "metadata": {},
   "outputs": [],
   "source": [
    "phone_number_regex = '\\([0-9]{3}\\)[0-9]{3}-[0-9]{4}'\n",
    "extension_regex = ' ext [0-9]{1,}'\n",
    "page_number_regex = r'\\n[0-9]{3}\\n'\n",
    "contact_info_regex = r'\\w{1,},(?:\\w|[\\s.]){1,}\\(\\w{1,}@[a-zA-Z0-9\\-]{1,}\\)'\n",
    "whitespace_removal_regex = r'[^\\S\\r\\n]*([^a-zA-Z\\d\\s\\]])[^\\S\\r\\n]*'\n",
    "page_headers = ('HOST ACRONYMS\\nACRONYM ADDR . TYPE SPONSOR LIAISON and SITE ADDRESS\\n( Dec )', \n",
    "                'ARPANET DIRECTORY HOST ACRONYMS\\nNIC 46099 Dec. 1978\\nACRONYM ADDR . TYPE SPONSOR LIAISON and SITE ADDRESS\\n( Dec )\\n')\n",
    "column_names = ['acronym', 'host_address', 'type', 'sponsor', 'liason_name', 'liason_email', 'physical_address']"
   ]
  },
  {
   "cell_type": "code",
   "execution_count": 161,
   "id": "4ac12f37",
   "metadata": {
    "scrolled": false
   },
   "outputs": [],
   "source": [
    "with open('text/hosts-1978.txt') as hosts:\n",
    "    data = ''.join(hosts.readlines()[5:-1])\n",
    "    for s in page_headers: data = data.replace(s, '')                  # remove page headers\n",
    "    data = re.sub(page_number_regex, '', data, 0, re.DOTALL)           # remove page numbers\n",
    "    data = re.sub(whitespace_removal_regex, r'\\1', data)               # remove extra whitespace\n",
    "    data = re.sub(extension_regex, '', data)                           # remove extensions\n",
    "    phone_numbers = re.findall(phone_number_regex, data)               # save phone numbers   \n",
    "    entries = re.split(phone_number_regex, data, 0, re.DOTALL)         "
   ]
  },
  {
   "cell_type": "code",
   "execution_count": 163,
   "id": "6594a509",
   "metadata": {},
   "outputs": [
    {
     "name": "stdout",
     "output_type": "stream",
     "text": [
      "\n",
      "[ALMSA-TIP] 2/61 TIP ARMY Nelson,Steve(JAMES@BBNB)\n",
      "Commander Army Communications Command\n",
      "Attn:Steve Nelson,CCNC-STL-S\n",
      "St.Louis,Missouri 63188\n",
      "AMES-11 3/16 USER ARPA Hart,James P.(HART@AMES-67)\n",
      "NASA Ames Research Center\n",
      "Network Graphics Group Mail Stop 233-9 Moffett Field,California 94035\n",
      "\n"
     ]
    }
   ],
   "source": [
    "print(entries[find_entry(entries, '\\n[ALMSA-TIP]', startswith)])"
   ]
  },
  {
   "cell_type": "markdown",
   "id": "8cdb937d",
   "metadata": {},
   "source": [
    "##  Inconsistencies\n",
    "\n",
    "There are still a number of inconsistencies in our data. Here is a list.\n",
    "\n",
    "1. Issues with square brackets.\n",
    "2. Entry 40 -- multiple phone numbers.\n",
    "3. Interfering strings.\n",
    "\n",
    "Here are some helper functions to allow us to find entries more easily."
   ]
  },
  {
   "cell_type": "code",
   "execution_count": 147,
   "id": "40f65e42",
   "metadata": {},
   "outputs": [],
   "source": [
    "def startswith(s, t):\n",
    "    return s.startswith(t)\n",
    "\n",
    "def is_in(s, t):\n",
    "    return t in s\n",
    "\n",
    "def find_entry(entries, substr, method):\n",
    "    for entry in entries:\n",
    "        if method(entry, substr):\n",
    "            return entries.index(entry)\n",
    "    return -1"
   ]
  },
  {
   "cell_type": "markdown",
   "id": "3486851f",
   "metadata": {},
   "source": [
    "### 1. Lack of phone numbers\n",
    "\n",
    "There are multiple occassions where there were no phone numbers. So we will need to manually split those entries, and insert corresponding empty entries in the `phone_numbers` list."
   ]
  },
  {
   "cell_type": "code",
   "execution_count": 148,
   "id": "f6bc316c",
   "metadata": {},
   "outputs": [
    {
     "data": {
      "text/plain": [
       "69"
      ]
     },
     "execution_count": 148,
     "metadata": {},
     "output_type": "execute_result"
    }
   ],
   "source": [
    "find_entry(entries, '\\nMIT-DEV', startswith)"
   ]
  },
  {
   "cell_type": "code",
   "execution_count": 170,
   "id": "3572c5f7",
   "metadata": {},
   "outputs": [
    {
     "name": "stdout",
     "output_type": "stream",
     "text": [
      "['\\nMIT-DEVMULTICS 3/41 SERVER,ARPA\\nLimited\\nGreenberg,Bernard S.\\n(Greenberg@MIT-MULTICS)\\nHoneywell Information Systems Cambridge Information Systems Laboratory\\n575 Technology Square,3rd Floor\\nCambridge,Massachusetts ', '02139', '\\nMIT-DMS 1/6 SERVER ARPA Galley,Stuart W.(SWG@MIT-DMS)\\nMassachusetts Institute of\\nTechnology\\nLaboratory for Computer Science Dynamic Modeling System 545 Technology Square Cambridge,Massachusetts ', '02139', '\\n']\n",
      "5\n"
     ]
    }
   ],
   "source": [
    "# splitting entries[3] into two entries\n",
    "# split = re.split(r'([0-9]{5})', entries[3])\n",
    "# entries[3] = ''.join(split[:2])\n",
    "# entries.insert(4, ''.join(split[2:]))\n",
    "\n",
    "def split_on_zip(index):\n",
    "    split = re.split(r'([0-9]{5})', entries[index])\n",
    "    print(split)\n",
    "    print(len(split))\n",
    "    entries[index] = ''.join(split[:2])\n",
    "    entries.insert(index + 1, ''.join(split[2:]))\n",
    "\n",
    "split_on_zip(find_entry(entries, '\\n[ALMSA-TIP]', startswith))\n",
    "split_on_zip(find_entry(entries, '\\nMIT-DEV', startswith))\n",
    "    \n",
    "# # splitting entries[25] into two entries\n",
    "# split = re.split(r'(Carolina)', entries[25])\n",
    "# entries[25] = ''.join(split[:2])\n",
    "# entries.insert(26, split[2])\n",
    "\n",
    "# # insert missing phone numbers \n",
    "# phone_numbers.insert(3, '')\n",
    "# phone_numbers.insert(25, '')"
   ]
  },
  {
   "cell_type": "code",
   "execution_count": 172,
   "id": "c2470f15",
   "metadata": {},
   "outputs": [
    {
     "name": "stdout",
     "output_type": "stream",
     "text": [
      "\n",
      "MIT-DMS 1/6 SERVER ARPA Galley,Stuart W.(SWG@MIT-DMS)\n",
      "Massachusetts Institute of\n",
      "Technology\n",
      "Laboratory for Computer Science Dynamic Modeling System 545 Technology Square Cambridge,Massachusetts 02139\n",
      "\n"
     ]
    }
   ],
   "source": [
    "print(entries[find_entry(entries, '\\nMIT-DEV', startswith) + 1])\n"
   ]
  },
  {
   "cell_type": "code",
   "execution_count": 155,
   "id": "9c17f857",
   "metadata": {},
   "outputs": [
    {
     "data": {
      "text/plain": [
       "'\\nMIT-DEVMULTICS 3/41 SERVER,ARPA\\nLimited\\nGreenberg,Bernard S.\\n(Greenberg@MIT-MULTICS)\\nHoneywell Information Systems Cambridge Information Systems Laboratory\\n575 Technology Square,3rd Floor\\nCambridge,Massachusetts 02139\\nMIT-DMS 1/6 SERVER ARPA Galley,Stuart W.(SWG@MIT-DMS)\\nMassachusetts Institute of\\nTechnology\\nLaboratory for Computer Science Dynamic Modeling System 545 Technology Square Cambridge,Massachusetts 02139\\n'"
      ]
     },
     "execution_count": 155,
     "metadata": {},
     "output_type": "execute_result"
    }
   ],
   "source": [
    "entries[71]"
   ]
  },
  {
   "cell_type": "markdown",
   "id": "cfab0830",
   "metadata": {},
   "source": [
    "### 2. Multiple phone numbers\n",
    "\n",
    "Entry `41` is problematic too."
   ]
  },
  {
   "cell_type": "code",
   "execution_count": 109,
   "id": "e771bd95",
   "metadata": {},
   "outputs": [
    {
     "name": "stdout",
     "output_type": "stream",
     "text": [
      " or 274-9151\n",
      "DCA DCA Czahor,Raymond(DCACODE535@ISI)\n",
      "Defense Communications Agency\n",
      "Attn:Code 535,Arpanet Management Branch\n",
      "Washington,D.C.20305\n",
      "\n"
     ]
    }
   ],
   "source": [
    "print(entries[41])"
   ]
  },
  {
   "cell_type": "markdown",
   "id": "221c8892",
   "metadata": {},
   "source": [
    "The first line was an alternate number of the previous entry. We can just remove that, the phone numbers are non-essential. But there is also a problem in that two entries are missing from the first remaining line. It reads `DCA DCA Czahor . . .`. But in the actual text, it reads `DCA ... ... DCA Czahor . . .`. I will replace these entries with `NA`."
   ]
  },
  {
   "cell_type": "code",
   "execution_count": 110,
   "id": "062ee433",
   "metadata": {},
   "outputs": [],
   "source": [
    "adjusted = '\\n'.join(entries[41].split('\\n')[1:])\n",
    "adjusted = re.sub(r'DCA DCA', r'DCA NA NA DCA', adjusted)\n",
    "entries[41] = adjusted"
   ]
  },
  {
   "cell_type": "code",
   "execution_count": 111,
   "id": "84acc728",
   "metadata": {},
   "outputs": [
    {
     "name": "stdout",
     "output_type": "stream",
     "text": [
      "DCA NA NA DCA Czahor,Raymond(DCACODE535@ISI)\n",
      "Defense Communications Agency\n",
      "Attn:Code 535,Arpanet Management Branch\n",
      "Washington,D.C.20305\n",
      "\n"
     ]
    }
   ],
   "source": [
    "print(entries[41])"
   ]
  },
  {
   "cell_type": "markdown",
   "id": "9f4585fe",
   "metadata": {},
   "source": [
    "### 3. Interfering strings\n",
    "\n",
    "Entry `44` has the string `\"\\nUp intermittently\\n\"` inserted in the middle of its first line. Let's remove it.\n"
   ]
  },
  {
   "cell_type": "code",
   "execution_count": 112,
   "id": "3229412e",
   "metadata": {},
   "outputs": [
    {
     "name": "stdout",
     "output_type": "stream",
     "text": [
      "\n",
      "DEC-MARLBORO 1/37 USER ARPAGartley,Carl(LCAMPBELL@SRI-KL)\n",
      "Digital Equipment Corporation\n",
      "DEC System-10 Engineering\n",
      "200 Forest Street\n",
      "Marlborough,Massachusetts 01752\n",
      "\n"
     ]
    }
   ],
   "source": [
    "entries[44] = re.sub('\\nUp intermittently\\n', '', entries[44])\n",
    "print(entries[44])"
   ]
  },
  {
   "cell_type": "markdown",
   "id": "f8497089",
   "metadata": {},
   "source": [
    "There are a number of issues surrounding how the TYPE column is handled. Most entries are a single word, such as `USER` or `SERVER`. But many are rendered on multiple lines. Examples include: `SERVER,\\nLimited`, `USER,VDH\\nMagtape,`, `SERVER\\nLimited\\VDH`.\n",
    "\n",
    "This would not be a problem, except for the fact that the subsequent lines are not kept grouped together. Here is an example:"
   ]
  },
  {
   "cell_type": "code",
   "execution_count": 115,
   "id": "13e11ead",
   "metadata": {},
   "outputs": [
    {
     "data": {
      "text/plain": [
       "71"
      ]
     },
     "execution_count": 115,
     "metadata": {},
     "output_type": "execute_result"
    }
   ],
   "source": [
    "find_entry(entries, '\\nMIT-DEV', startswith)"
   ]
  },
  {
   "cell_type": "markdown",
   "id": "f4b4ce2c",
   "metadata": {},
   "source": [
    "The substring `Magtape,` is on a new line _in between the data from the sponsor and liason columns_. This is a problem.\n",
    "\n",
    "I am hoping to manage this by matching all the contact info, which seems doable, although there is on entry that is out of format."
   ]
  },
  {
   "cell_type": "code",
   "execution_count": null,
   "id": "2174ad56",
   "metadata": {},
   "outputs": [],
   "source": []
  },
  {
   "cell_type": "markdown",
   "id": "65b8e8f1",
   "metadata": {},
   "source": [
    "TODO\n",
    "\n",
    "1. Handle extra lines in TYPE column (try using contact info regex)\n",
    "\n",
    "2. Handle non-US phone numbers\n",
    "    a. 01-387-7050(UK)"
   ]
  }
 ],
 "metadata": {
  "kernelspec": {
   "display_name": "Python 3",
   "language": "python",
   "name": "python3"
  },
  "language_info": {
   "codemirror_mode": {
    "name": "ipython",
    "version": 3
   },
   "file_extension": ".py",
   "mimetype": "text/x-python",
   "name": "python",
   "nbconvert_exporter": "python",
   "pygments_lexer": "ipython3",
   "version": "3.6.9"
  }
 },
 "nbformat": 4,
 "nbformat_minor": 5
}
