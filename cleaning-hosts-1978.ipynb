{
 "cells": [
  {
   "cell_type": "markdown",
   "source": [
    "# Do over\n",
    "\n",
    "Last time, we tried to use pdfminer to mine the [Arpanet Directory](https://www.google.com/books/edition/ARPANET_Directory/AHo-AQAAIAAJ?hl=en&gbpv=1&dq=arpanet+directory&printsec=frontcover) we found on Google Books. We learned some valuable things, such as that the pdf we are working with actually contains _three_ years worth of directories, starting with 1978. But we ran into [issues](https://github.com/pdfminer/pdfminer.six/issues/656) with out of place text while using pdfminer. So instead I tried the simple expedient of `ctrl + a` and it worked like a charm.\n",
    "\n",
    "I also decided it would be helpful to subdivde the full pdf even further, extracting out only the HOST ACRONYMS AND NETWORKING LIASONS table from 1978. The pdf for this table is found [here](/files/pdfs/arpanet-directory_host-acronyms-1978.pdf). The text version is [here](/files/text/hosts-1978.txt)."
   ],
   "metadata": {}
  },
  {
   "cell_type": "code",
   "execution_count": 292,
   "source": [
    "import re"
   ],
   "outputs": [],
   "metadata": {}
  },
  {
   "cell_type": "markdown",
   "source": [
    "## Initial Parsing\n",
    "\n",
    "We start by reading the file into a string and processing it:\n",
    "\n",
    "1. Remove the first lines (up to and including the column names, which we will not use), and the last line which is a page number.\n",
    "2. Replace the headers of each page with empty strings. There are two different formats of page headers to deal with.\n",
    "3. Replace page numbers with empty strings.\n",
    "4. Remove extra whitespace from around all punctuation marks -- except for right square brackets. There are two instances of those, and the exterior whitespace is necessary.\n",
    "5. Removing all extensions from phone numbers. We won't be calling any of these numbers, and the inconsistency will mess up our parsing.\n",
    "5. Split the string, using the phone numbers as a sepator, but keeping the separators.\n",
    "6. Zip the odd and even entries in this list of strings into a list of tuples, corresponding to the entries.\n",
    "\n",
    "And that'll do. Let's split off the phone numbers into a separate array or now."
   ],
   "metadata": {}
  },
  {
   "cell_type": "code",
   "execution_count": 293,
   "source": [
    "phone_number_regex = '\\([0-9]{3}\\)[0-9]{3}-[0-9]{4}'\n",
    "extension_regex = ' ext [0-9]{1,}'\n",
    "page_number_regex = r'\\n[0-9]{3}\\n'\n",
    "contact_info_regex = r'\\w{1,},(?:\\w|[\\s.]){1,}\\(\\w{1,}@[a-zA-Z0-9\\-]{1,}\\)'\n",
    "whitespace_removal_regex = r'[^\\S\\r\\n]*([^a-zA-Z\\d\\s\\]])[^\\S\\r\\n]*'\n",
    "page_headers = ('HOST ACRONYMS\\nACRONYM ADDR . TYPE SPONSOR LIAISON and SITE ADDRESS\\n( Dec )', \n",
    "                'ARPANET DIRECTORY HOST ACRONYMS\\nNIC 46099 Dec. 1978\\nACRONYM ADDR . TYPE SPONSOR LIAISON and SITE ADDRESS\\n( Dec )\\n')\n",
    "column_names = ['acronym', 'host_address', 'type', 'sponsor', 'liason_name', 'liason_email', 'physical_address']"
   ],
   "outputs": [],
   "metadata": {}
  },
  {
   "cell_type": "code",
   "execution_count": 294,
   "source": [
    "with open('text/hosts-1978.txt') as hosts:\n",
    "    data = ''.join(hosts.readlines()[5:-1])\n",
    "    for s in page_headers: data = data.replace(s, '')                  # remove page headers\n",
    "    data = re.sub(page_number_regex, '', data, 0, re.DOTALL)           # remove page numbers\n",
    "    data = re.sub(whitespace_removal_regex, r'\\1', data)               # remove extra whitespace\n",
    "    data = re.sub(extension_regex, '', data)                           # remove extensions\n",
    "    phone_numbers = re.findall(phone_number_regex, data)               # save phone numbers   \n",
    "    entries = re.split(phone_number_regex, data, 0, re.DOTALL)         "
   ],
   "outputs": [],
   "metadata": {
    "scrolled": false
   }
  },
  {
   "cell_type": "markdown",
   "source": [
    "##  Inconsistencies\n",
    "\n",
    "There are still a number of inconsistencies in our data. Here is a list.\n",
    "\n",
    "1. Issues with square brackets.\n",
    "2. Multiple phone numbers (two instances)\n",
    "3. Multiple extensions (one instance)\n",
    "4. Ellipses for TYPE and SPONSOR (two instance)\n",
    "5. Interfering strings \n",
    "\n",
    "Here are some helper functions to allow us to find entries more easily."
   ],
   "metadata": {}
  },
  {
   "cell_type": "code",
   "execution_count": 295,
   "source": [
    "def startswith(s, t):\n",
    "    return s.startswith(t)\n",
    "\n",
    "def is_in(s, t):\n",
    "    return t in s\n",
    "\n",
    "def find_entry(entries, substr, method):\n",
    "    for entry in entries:\n",
    "        if method(entry, substr):\n",
    "            return entries.index(entry)\n",
    "    return -1"
   ],
   "outputs": [],
   "metadata": {}
  },
  {
   "cell_type": "markdown",
   "source": [
    "### 1. Lack of phone numbers\n",
    "\n",
    "There are multiple occassions where there were no phone numbers. So we will need to manually split those entries, and insert corresponding empty entries in the `phone_numbers` list.\n",
    "\n",
    "Some of these can be split on the zip code, but others need to be handled differently."
   ],
   "metadata": {}
  },
  {
   "cell_type": "code",
   "execution_count": 296,
   "source": [
    "def split_on_zip(index):\n",
    "    split = re.split(r'([0-9]{5})', entries[index])\n",
    "    entries[index] = ''.join(split[:2])\n",
    "    entries.insert(index + 1, ''.join(split[2:]))\n",
    "    phone_numbers.insert(index, 'NA')\n",
    "\n",
    "split_on_zip(find_entry(entries, '\\n[ALMSA-TIP]', startswith))\n",
    "split_on_zip(find_entry(entries, '\\nMIT-DEV', startswith))\n",
    "    \n",
    "# BRAGG-TIP entry doesn't have a zip code listed\n",
    "bragg_tip_index = find_entry(entries, '\\nBRAGG-TIP', startswith)\n",
    "split = re.split(r'(Carolina)', entries[bragg_tip_index])\n",
    "entries[bragg_tip_index] = ''.join(split[:2])\n",
    "entries.insert(bragg_tip_index + 1, split[2])\n",
    "phone_numbers.insert(bragg_tip_index, 'NA')"
   ],
   "outputs": [],
   "metadata": {}
  },
  {
   "cell_type": "markdown",
   "source": [
    "### 2. Multiple phone numbers or extensions\n",
    "\n",
    "There are also instances of entries with either two phone numbers or two extensions. For example:"
   ],
   "metadata": {}
  },
  {
   "cell_type": "code",
   "execution_count": 297,
   "source": [
    "entries[find_entry(entries, ' or ', startswith)]"
   ],
   "outputs": [
    {
     "output_type": "execute_result",
     "data": {
      "text/plain": [
       "' or 274-9151\\nDCA DCA Czahor,Raymond(DCACODE535@ISI)\\nDefense Communications Agency\\nAttn:Code 535,Arpanet Management Branch\\nWashington,D.C.20305\\n'"
      ]
     },
     "metadata": {},
     "execution_count": 297
    }
   ],
   "metadata": {}
  },
  {
   "cell_type": "markdown",
   "source": [
    "The first line in this entry is actually the second phone number from the previous entry. We will just remove all such second phone numbers and extensions, since we won't be calling them anyway. Of course, this is not the only format of secondary numbers: some are comma separated."
   ],
   "metadata": {}
  },
  {
   "cell_type": "code",
   "execution_count": 298,
   "source": [
    "for i, entry in enumerate(entries):\n",
    "  entries[i] = re.sub(r'( or |,)([0-9]{4}|[0-9]{3}-[0-9]{4})', '', entry, 0)\n",
    "  "
   ],
   "outputs": [],
   "metadata": {}
  },
  {
   "cell_type": "code",
   "execution_count": 299,
   "source": [
    "find_entry(entries, ' or ', startswith)"
   ],
   "outputs": [
    {
     "output_type": "execute_result",
     "data": {
      "text/plain": [
       "-1"
      ]
     },
     "metadata": {},
     "execution_count": 299
    }
   ],
   "metadata": {}
  },
  {
   "cell_type": "markdown",
   "source": [
    "And of course that isn't the only format. Sometimes the secondary number is only comma separated."
   ],
   "metadata": {}
  },
  {
   "cell_type": "markdown",
   "source": [
    "## Ellipses for TYPE and SPONSOR columns"
   ],
   "metadata": {}
  },
  {
   "cell_type": "markdown",
   "source": [
    "Now take another look at that entry. Note that in the original, there are two sets of ellipses for columns TYPE and SPONSOR. I'm not sure why they disappeared in the copy/pasting, but let's insert `NA` in those places. There are actually two instances of this to correct. "
   ],
   "metadata": {}
  },
  {
   "cell_type": "code",
   "execution_count": 300,
   "source": [
    "strings = ['NIC DCA', 'DCA DCA']\n",
    "for s in strings:\n",
    "  index = find_entry(entries, s, is_in)\n",
    "  entries[index] = re.sub(s, f'{s[:3]} NA NA DCA', entries[index])\n",
    "  print(entries[index])"
   ],
   "outputs": [
    {
     "output_type": "stream",
     "name": "stdout",
     "text": [
      "\n",
      "NDRE 1/41 USER,ARPA\n",
      "VDH\n",
      "Lundh,Yngvar G.(YNGVAR@SRI-KA)\n",
      "Norwegian Defence Research\n",
      "Establishment\n",
      "P.O.Box 25\n",
      "2007 Kjeller\n",
      "NORWAY\n",
      "(02)712660\n",
      "NDRE-GATEWAY 3/41 USER,ARPA\n",
      "VDH\n",
      "Lundh,Yngvar G.(YNGVAR@SRI-KA)\n",
      "Norwegian Defence Research\n",
      "Establishment\n",
      "P.O.Box 25\n",
      "2007 Kjeller\n",
      "NORWAY\n",
      "(02)712660\n",
      "NIC NA NA DCA Feinler,Elizabeth(FEINLER@SRI-KL)\n",
      "SRI International\n",
      "Network Information Center\n",
      "Room J2021 333 Ravenswood Avenue\n",
      "Menlo Park,California 94025\n",
      "\n",
      "\n",
      "DCA NA NA DCA Czahor,Raymond(DCACODE535@ISI)\n",
      "Defense Communications Agency\n",
      "Attn:Code 535,Arpanet Management Branch\n",
      "Washington,D.C.20305\n",
      "\n"
     ]
    }
   ],
   "metadata": {}
  },
  {
   "cell_type": "markdown",
   "source": [
    "This brings us to yet another issue -- European phone numbers!"
   ],
   "metadata": {}
  },
  {
   "cell_type": "code",
   "execution_count": 301,
   "source": [
    "entries[index]"
   ],
   "outputs": [
    {
     "output_type": "execute_result",
     "data": {
      "text/plain": [
       "'\\nDCA NA NA DCA Czahor,Raymond(DCACODE535@ISI)\\nDefense Communications Agency\\nAttn:Code 535,Arpanet Management Branch\\nWashington,D.C.20305\\n'"
      ]
     },
     "metadata": {},
     "execution_count": 301
    }
   ],
   "metadata": {}
  },
  {
   "cell_type": "markdown",
   "source": [
    "### 4. Interfering strings\n",
    "\n",
    "There are several entries with interfering strings such as \"Up intermittently\" inserted below the main line of the entry. Let's remove them.\n"
   ],
   "metadata": {}
  },
  {
   "cell_type": "code",
   "execution_count": 302,
   "source": [
    "for entry in entries:\n",
    "  if 'Sharing' in entry:\n",
    "    print(entry)"
   ],
   "outputs": [
    {
     "output_type": "stream",
     "name": "stdout",
     "text": [
      "\n",
      "CCTC 0/20 SERVER,CCTC Limited\n",
      "Sharing port with EDN-UNIX\n",
      "Corrigan,Michael(corrigan@CCTC)\n",
      "Defense Communications Agency\n",
      "Command and Control Technical\n",
      "Center\n",
      "11440 Isaac Newton Square\n",
      "Reston,Virginia 22090\n",
      "\n",
      "EDN-UNIX 0/20 SERVER,DCEC\n",
      "Limited\n",
      "Sharing port with CCTC\n",
      "Margolis,Abe(DLUGOS@BBNB)\n",
      "Defense Communications\n",
      "Engineering Center\n",
      "Code R820\n",
      "1860 Wiehle Avenue\n",
      "Reston,Virginia 22090\n",
      "\n",
      "Sharing port with ROCHESTER\n",
      "RAND-RCC 077 SERVER ARPA Wahrman,Mike(mike@RAND-UNIX)\n",
      "The Rand Corporation\n",
      "1700 Main Street\n",
      "Santa Monica,California 90406\n",
      "\n",
      "\n",
      "Sharing port with RADC-XPER\n",
      "SAT-VDH 3/63 USER,ARPA\n",
      "VDH\n",
      "Bressler,Robert(BRESSLER@BBNE)\n",
      "Bolt Beranek and Newman Inc.\n",
      "50 Moulton Street\n",
      "Cambridge,Massachusetts 02138\n",
      "\n"
     ]
    }
   ],
   "metadata": {}
  },
  {
   "cell_type": "code",
   "execution_count": 303,
   "source": [
    "interfering_strings = ['\\nSharing port with EDN-UNIX\\n', \n",
    "                       '\\nUp intermittently\\n',\n",
    "                       '\\nSharing port with CCTC\\n',\n",
    "                       '\\nTo be connected to IMP 33\\n',  # I'm not sure what happened to the 1/79 from this line\n",
    "                       '\\nSharing port with ROCHESTER\\n',\n",
    "                       '\\nSharing port with RADC-XPER\\n']"
   ],
   "outputs": [],
   "metadata": {}
  },
  {
   "cell_type": "code",
   "execution_count": 304,
   "source": [
    "for string in interfering_strings:\n",
    "  index = find_entry(entries, string, is_in)\n",
    "  entries[index] = re.sub(string, '\\n', entries[index])\n",
    "  print(entries[index])"
   ],
   "outputs": [
    {
     "output_type": "stream",
     "name": "stdout",
     "text": [
      "\n",
      "CCTC 0/20 SERVER,CCTC Limited\n",
      "Corrigan,Michael(corrigan@CCTC)\n",
      "Defense Communications Agency\n",
      "Command and Control Technical\n",
      "Center\n",
      "11440 Isaac Newton Square\n",
      "Reston,Virginia 22090\n",
      "\n",
      "DEC-MARLBORO 1/37 USER ARPA\n",
      "Gartley,Carl(LCAMPBELL@SRI-KL)\n",
      "Digital Equipment Corporation\n",
      "DEC System-10 Engineering\n",
      "200 Forest Street\n",
      "Marlborough,Massachusetts 01752\n",
      "\n",
      "\n",
      "EDN-UNIX 0/20 SERVER,DCEC\n",
      "Limited\n",
      "Margolis,Abe(DLUGOS@BBNB)\n",
      "Defense Communications\n",
      "Engineering Center\n",
      "Code R820\n",
      "1860 Wiehle Avenue\n",
      "Reston,Virginia 22090\n",
      "\n",
      "FNWC 1/64 USER ARPA\n",
      "Bradford,Brian E.(FNWC@SRI-KA)\n",
      "Navy Fleet Numerical Weather\n",
      "Central\n",
      "Monterey,California 93940\n",
      "\n",
      "\n",
      "RAND-RCC 077 SERVER ARPA Wahrman,Mike(mike@RAND-UNIX)\n",
      "The Rand Corporation\n",
      "1700 Main Street\n",
      "Santa Monica,California 90406\n",
      "\n",
      "\n",
      "SAT-VDH 3/63 USER,ARPA\n",
      "VDH\n",
      "Bressler,Robert(BRESSLER@BBNE)\n",
      "Bolt Beranek and Newman Inc.\n",
      "50 Moulton Street\n",
      "Cambridge,Massachusetts 02138\n",
      "\n"
     ]
    }
   ],
   "metadata": {}
  },
  {
   "cell_type": "markdown",
   "source": [
    "There are a number of issues surrounding how the TYPE column is handled. Most entries are a single word, such as `USER` or `SERVER`. But many are rendered on multiple lines. Examples include: `SERVER,\\nLimited`, `USER,VDH\\nMagtape,`, `SERVER\\nLimited\\VDH`.\n",
    "\n",
    "This would not be a problem, except for the fact that the subsequent lines are not kept grouped together. Here is an example:"
   ],
   "metadata": {}
  },
  {
   "cell_type": "code",
   "execution_count": 305,
   "source": [
    "find_entry(entries, '\\nMIT-DEV', startswith)"
   ],
   "outputs": [
    {
     "output_type": "execute_result",
     "data": {
      "text/plain": [
       "71"
      ]
     },
     "metadata": {},
     "execution_count": 305
    }
   ],
   "metadata": {}
  },
  {
   "cell_type": "markdown",
   "source": [
    "The substring `Magtape,` is on a new line _in between the data from the sponsor and liason columns_. This is a problem.\n",
    "\n",
    "I am hoping to manage this by matching all the contact info, which seems doable, although there is on entry that is out of format."
   ],
   "metadata": {}
  },
  {
   "cell_type": "code",
   "execution_count": null,
   "source": [],
   "outputs": [],
   "metadata": {}
  },
  {
   "cell_type": "markdown",
   "source": [
    "TODO\n",
    "\n",
    "1. Handle extra lines in TYPE column (try using contact info regex)\n",
    "\n",
    "2. Handle non-US phone numbers\n",
    "    a. 01-387-7050(UK)"
   ],
   "metadata": {}
  }
 ],
 "metadata": {
  "kernelspec": {
   "name": "python3",
   "display_name": "Python 3.6.9 64-bit"
  },
  "language_info": {
   "codemirror_mode": {
    "name": "ipython",
    "version": 3
   },
   "file_extension": ".py",
   "mimetype": "text/x-python",
   "name": "python",
   "nbconvert_exporter": "python",
   "pygments_lexer": "ipython3",
   "version": "3.6.9"
  },
  "interpreter": {
   "hash": "31f2aee4e71d21fbe5cf8b01ff0e069b9275f58929596ceb00d14d90e3e16cd6"
  }
 },
 "nbformat": 4,
 "nbformat_minor": 5
}